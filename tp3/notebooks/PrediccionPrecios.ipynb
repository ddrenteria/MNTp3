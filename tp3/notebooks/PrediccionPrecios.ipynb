{
 "cells": [
  {
   "cell_type": "code",
   "execution_count": 1,
   "metadata": {},
   "outputs": [
    {
     "name": "stdout",
     "output_type": "stream",
     "text": [
      "mkdir: cannot create directory ‘build’: File exists\n",
      "-- The C compiler identification is GNU 9.3.0\n",
      "-- The CXX compiler identification is GNU 9.3.0\n",
      "-- Check for working C compiler: /usr/bin/cc\n",
      "-- Check for working C compiler: /usr/bin/cc -- works\n",
      "-- Detecting C compiler ABI info\n",
      "-- Detecting C compiler ABI info - done\n",
      "-- Detecting C compile features\n",
      "-- Detecting C compile features - done\n",
      "-- Check for working CXX compiler: /usr/bin/c++\n",
      "-- Check for working CXX compiler: /usr/bin/c++ -- works\n",
      "-- Detecting CXX compiler ABI info\n",
      "-- Detecting CXX compiler ABI info - done\n",
      "-- Detecting CXX compile features\n",
      "-- Detecting CXX compile features - done\n",
      "Release mode\n",
      "-- Found PythonInterp: /home/dago/anaconda3/bin/python (found version \"3.7.6\") \n",
      "-- Found PythonLibs: /home/dago/anaconda3/lib/libpython3.7m.so\n",
      "-- pybind11 v2.2.4\n",
      "-- Performing Test HAS_FLTO\n",
      "-- Performing Test HAS_FLTO - Success\n",
      "-- LTO enabled\n",
      "CMAKE_INSTALL_PREFIX=/home/dago/Desktop/Facultad/MN/MNTp3/tp3\n",
      "-- Configuring done\n",
      "-- Generating done\n",
      "-- Build files have been written to: /home/dago/Desktop/Facultad/MN/MNTp3/tp3/build\n",
      "\u001b[35m\u001b[1mScanning dependencies of target metnum\u001b[0m\n",
      "[ 33%] \u001b[32mBuilding CXX object CMakeFiles/metnum.dir/src/metnum.cpp.o\u001b[0m\n",
      "[ 66%] \u001b[32mBuilding CXX object CMakeFiles/metnum.dir/src/linear_regression.cpp.o\u001b[0m\n",
      "[100%] \u001b[32m\u001b[1mLinking CXX shared module metnum.cpython-37m-x86_64-linux-gnu.so\u001b[0m\n",
      "[100%] Built target metnum\n",
      "\u001b[36mInstall the project...\u001b[0m\n",
      "-- Install configuration: \"Release\"\n",
      "-- Installing: /home/dago/Desktop/Facultad/MN/MNTp3/tp3/notebooks/metnum.cpython-37m-x86_64-linux-gnu.so\n"
     ]
    }
   ],
   "source": [
    "!cd .. && mkdir build\n",
    "!cd ../build/ && rm -rf *\n",
    "!cd ../build && cmake \\\n",
    "  -DPYTHON_EXECUTABLE=\"$(which python)\" \\\n",
    "  -DCMAKE_BUILD_TYPE=Release ..\n",
    "!cd ../build && make install"
   ]
  },
  {
   "cell_type": "code",
   "execution_count": 2,
   "metadata": {},
   "outputs": [],
   "source": [
    "import pandas as pd\n",
    "import numpy as np\n",
    "\n",
    "import seaborn as sns\n",
    "import matplotlib.pyplot as plt"
   ]
  },
  {
   "cell_type": "code",
   "execution_count": 3,
   "metadata": {},
   "outputs": [
    {
     "name": "stdout",
     "output_type": "stream",
     "text": [
      "/home/dago/Desktop/Facultad/MN/MNTp3/tp3/notebooks\n",
      "Python 3.7.6\n"
     ]
    }
   ],
   "source": [
    "# Verifico la correcta instalación. Si no falla el import está OK\n",
    "!pwd\n",
    "!python --version\n",
    "import metnum\n"
   ]
  },
  {
   "cell_type": "code",
   "execution_count": 4,
   "metadata": {},
   "outputs": [],
   "source": [
    "df = pd.read_csv('../data/train.csv')"
   ]
  },
  {
   "cell_type": "code",
   "execution_count": 5,
   "metadata": {},
   "outputs": [],
   "source": [
    "df = df[df['ciudad']=='Mérida'].dropna()"
   ]
  },
  {
   "cell_type": "code",
   "execution_count": 6,
   "metadata": {},
   "outputs": [],
   "source": [
    "x = df['metroscubiertos'].values"
   ]
  },
  {
   "cell_type": "code",
   "execution_count": 7,
   "metadata": {},
   "outputs": [],
   "source": [
    "y = df['precio'].values"
   ]
  },
  {
   "cell_type": "code",
   "execution_count": 8,
   "metadata": {},
   "outputs": [],
   "source": [
    "x = x.reshape(len(x),1)\n",
    "y = y.reshape(len(y),1)"
   ]
  },
  {
   "cell_type": "code",
   "execution_count": 9,
   "metadata": {},
   "outputs": [
    {
     "data": {
      "text/plain": [
       "(518, 1)"
      ]
     },
     "execution_count": 9,
     "metadata": {},
     "output_type": "execute_result"
    }
   ],
   "source": [
    "x.shape"
   ]
  },
  {
   "cell_type": "code",
   "execution_count": 10,
   "metadata": {},
   "outputs": [],
   "source": [
    "from sklearn.linear_model import LinearRegression\n",
    "\n",
    "\"\"\"\n",
    "Reemplazar por nuestra implementación \n",
    "\"\"\"\n",
    "\n",
    "linear_regressor = LinearRegression()\n",
    "linear_regressor2 = metnum.LinearRegression()\n",
    "\n",
    "linear_regressor.fit(x,y)\n",
    "linear_regressor2.fit(x,y)"
   ]
  },
  {
   "cell_type": "code",
   "execution_count": 11,
   "metadata": {},
   "outputs": [],
   "source": [
    "df['prediction'] = linear_regressor.predict(x)\n",
    "df['prediction2'] = linear_regressor2.predict(x)"
   ]
  },
  {
   "cell_type": "code",
   "execution_count": 12,
   "metadata": {},
   "outputs": [
    {
     "data": {
      "text/plain": [
       "<matplotlib.axes._subplots.AxesSubplot at 0x7f27e5478950>"
      ]
     },
     "execution_count": 12,
     "metadata": {},
     "output_type": "execute_result"
    },
    {
     "data": {
      "image/png": "[encoded data removed]",
      "text/plain": [
       "<Figure size 432x288 with 1 Axes>"
      ]
     },
     "metadata": {
      "needs_background": "light"
     },
     "output_type": "display_data"
    }
   ],
   "source": [
    "sns.scatterplot(data=df, x='metroscubiertos', y='precio')\n",
    "sns.lineplot(data=df, x='metroscubiertos', y='prediction', color='red')\n",
    "sns.lineplot(data=df, x='metroscubiertos', y='prediction2', color='green')\n"
   ]
  },
  {
   "cell_type": "markdown",
   "metadata": {},
   "source": [
    "# KFold\n"
   ]
  },
  {
   "cell_type": "code",
   "execution_count": 104,
   "metadata": {},
   "outputs": [],
   "source": [
    "from sklearn.model_selection import KFold\n",
    "from sklearn.metrics import accuracy_score, precision_score, recall_score\n",
    "from sklearn.metrics import mean_squared_error\n",
    "from sklearn.metrics import mean_squared_log_error\n",
    "\n",
    "def K_Fold(X, y, K=10):\n",
    "    \n",
    "    kfold = KFold(n_splits=K)\n",
    "    #kfold.get_n_splits(X)\n",
    "    rmse = []\n",
    "    rmsle = []\n",
    "    \n",
    "    for train_index, test_index in kfold.split(X):\n",
    "        # Separamos el conjunto de entrenamiento y el conjunto de test\n",
    "        X_train, X_test = X[train_index], X[test_index]\n",
    "        y_train, y_test = y[train_index], y[test_index]\n",
    "\n",
    "        linear_regressor = metnum.LinearRegression()\n",
    "        linear_regressor.fit(X_train, y_train) \n",
    "        y_pred = linear_regressor.predict(X_test)\n",
    "        \n",
    "        if (y_pred < 0).any():\n",
    "            print(len(y_pred))\n",
    "        \n",
    "        rmse.append(mean_squared_error(y_test, y_pred, squared=False))\n",
    "        rmsle.append(mean_squared_log_error(y_test, y_pred))\n",
    "        \n",
    "    return np.mean(rmse), np.mean(rmsle)"
   ]
  },
  {
   "cell_type": "code",
   "execution_count": 26,
   "metadata": {},
   "outputs": [
    {
     "name": "stdout",
     "output_type": "stream",
     "text": [
      "644839.3753734664 0.16553826516219017\n"
     ]
    }
   ],
   "source": [
    "df = pd.read_csv('../data/train.csv')\n",
    "df = df[df['ciudad']=='Mérida'].dropna()\n",
    "x = df['metroscubiertos'].values\n",
    "y = df['precio'].values\n",
    "x = x.reshape(len(x),1)\n",
    "y = y.reshape(len(y),1)\n",
    "rmse, rmsle = K_Fold(x, y, 10) # 10% de las muestras para testear\n",
    "print(rmse, rmsle)"
   ]
  },
  {
   "cell_type": "markdown",
   "metadata": {},
   "source": [
    "# Experimentación\n"
   ]
  },
  {
   "cell_type": "markdown",
   "metadata": {},
   "source": [
    "- Revisar las columnas y el precio, ver si encontramos alguna relacion con un primer approach naive.\n",
    "- Definir la expirementacion :D\n",
    "\n",
    "\n",
    "- Definir un nuevo feature que sea zona urbana/zona rural por que pueden tener comportamientos distintos\n"
   ]
  },
  {
   "cell_type": "code",
   "execution_count": 27,
   "metadata": {},
   "outputs": [
    {
     "data": {
      "text/plain": [
       "id                            240000\n",
       "titulo                        186191\n",
       "descripcion                   232187\n",
       "tipodepropiedad                   24\n",
       "direccion                     140269\n",
       "ciudad                           875\n",
       "provincia                         32\n",
       "antiguedad                        78\n",
       "habitaciones                      10\n",
       "garages                            4\n",
       "banos                              4\n",
       "metroscubiertos                  425\n",
       "metrostotales                    425\n",
       "idzona                         19719\n",
       "lat                           112147\n",
       "lng                           112326\n",
       "fecha                           1830\n",
       "gimnasio                           2\n",
       "usosmultiples                      2\n",
       "piscina                            2\n",
       "escuelascercanas                   2\n",
       "centroscomercialescercanos         2\n",
       "precio                         15520\n",
       "dtype: int64"
      ]
     },
     "execution_count": 27,
     "metadata": {},
     "output_type": "execute_result"
    }
   ],
   "source": [
    "df = pd.read_csv('../data/train.csv')\n",
    "df.nunique()"
   ]
  },
  {
   "cell_type": "code",
   "execution_count": 32,
   "metadata": {},
   "outputs": [
    {
     "data": {
      "text/plain": [
       "2.0    87683\n",
       "1.0    58173\n",
       "3.0    49365\n",
       "4.0    18558\n",
       "Name: banos, dtype: int64"
      ]
     },
     "execution_count": 32,
     "metadata": {},
     "output_type": "execute_result"
    }
   ],
   "source": [
    "df['banos'].value_counts()"
   ]
  },
  {
   "cell_type": "markdown",
   "metadata": {},
   "source": [
    "# Como primera exprimentacion vamos a probar con todas las features, y sin segmentar para ver si obtenemos resultados. Y dropear los que tengas columnas incompletas"
   ]
  },
  {
   "cell_type": "markdown",
   "metadata": {},
   "source": [
    "Nos da negativo si ponemos muchas features. WHY?\n"
   ]
  },
  {
   "cell_type": "code",
   "execution_count": 33,
   "metadata": {},
   "outputs": [
    {
     "name": "stdout",
     "output_type": "stream",
     "text": [
      "True\n"
     ]
    },
    {
     "data": {
      "text/plain": [
       "<matplotlib.axes._subplots.AxesSubplot at 0x7f27bb383590>"
      ]
     },
     "execution_count": 33,
     "metadata": {},
     "output_type": "execute_result"
    },
    {
     "data": {
      "image/png": "[encoded data removed]",
      "text/plain": [
       "<Figure size 432x288 with 1 Axes>"
      ]
     },
     "metadata": {
      "needs_background": "light"
     },
     "output_type": "display_data"
    }
   ],
   "source": [
    "df = pd.read_csv('../data/train.csv')\n",
    "df2 = df.reindex(columns=[\"metroscubiertos\", \"metrostotales\", \"habitaciones\", \"banos\",\"antiguedad\", \"precio\"]).dropna()\n",
    "#df2 = df2[(df2['lat'] > 13) & (df2['lat'] < 34) & (df2['lng'] >= -117) & (df2['lng'] <= -87)]\n",
    "#df2['lng'] = df2['lng'].abs()\n",
    "\n",
    "y = df2['precio'].values\n",
    "df2 = df2.drop(columns=['precio'])\n",
    "X = df2.to_numpy()\n",
    "\n",
    "#from sklearn.linear_model import LinearRegression\n",
    "\n",
    "\n",
    "#linear_regressor = LinearRegression()\n",
    "linear_regressor = metnum.LinearRegression()\n",
    "linear_regressor.fit(X,y)\n",
    "\n",
    "df2['prediction'] = linear_regressor.predict(X)\n",
    "\n",
    "print((df2['prediction'] < 0).any())\n",
    "\n",
    "sns.scatterplot(x=df2['metroscubiertos'], y=y)\n",
    "sns.lineplot(data=df2, x='metroscubiertos', y='prediction', color='red')\n",
    "\n",
    "#sns.scatterplot(x=df2['antiguedad'], y=y)\n",
    "#sns.lineplot(data=df2, x='antiguedad', y='prediction', color='red')"
   ]
  },
  {
   "cell_type": "markdown",
   "metadata": {},
   "source": [
    "# exp para determinar si estan mal clasificados las lng y lat"
   ]
  },
  {
   "cell_type": "markdown",
   "metadata": {},
   "source": []
  },
  {
   "cell_type": "code",
   "execution_count": 83,
   "metadata": {},
   "outputs": [
    {
     "name": "stdout",
     "output_type": "stream",
     "text": [
      "58776\n",
      "58604\n",
      "58776\n",
      "57273\n"
     ]
    }
   ],
   "source": [
    "print(len(df2))\n",
    "print(len(df2[(df2['lat'] > 13) & (df2['lat'] < 34)]))\n",
    "\n",
    "print(len(df2))\n",
    "print(len(df2[(df2['lng'] >= -117) & (df2['lng'] <= -87)]))"
   ]
  },
  {
   "cell_type": "code",
   "execution_count": 100,
   "metadata": {},
   "outputs": [
    {
     "name": "stdout",
     "output_type": "stream",
     "text": [
      "0\n"
     ]
    },
    {
     "data": {
      "text/plain": [
       "False"
      ]
     },
     "execution_count": 100,
     "metadata": {},
     "output_type": "execute_result"
    }
   ],
   "source": [
    "print(len(df2[df2['lat'] < 0]))"
   ]
  },
  {
   "cell_type": "code",
   "execution_count": 15,
   "metadata": {},
   "outputs": [
    {
     "ename": "NameError",
     "evalue": "name 'K_Fold' is not defined",
     "output_type": "error",
     "traceback": [
      "\u001b[0;31m---------------------------------------------------------------------------\u001b[0m",
      "\u001b[0;31mNameError\u001b[0m                                 Traceback (most recent call last)",
      "\u001b[0;32m<ipython-input-15-65a10eb9807c>\u001b[0m in \u001b[0;36m<module>\u001b[0;34m\u001b[0m\n\u001b[1;32m      9\u001b[0m \u001b[0mX\u001b[0m \u001b[0;34m=\u001b[0m \u001b[0mdf2\u001b[0m\u001b[0;34m.\u001b[0m\u001b[0mto_numpy\u001b[0m\u001b[0;34m(\u001b[0m\u001b[0;34m)\u001b[0m\u001b[0;34m\u001b[0m\u001b[0;34m\u001b[0m\u001b[0m\n\u001b[1;32m     10\u001b[0m \u001b[0;34m\u001b[0m\u001b[0m\n\u001b[0;32m---> 11\u001b[0;31m \u001b[0mprint\u001b[0m\u001b[0;34m(\u001b[0m\u001b[0mK_Fold\u001b[0m\u001b[0;34m(\u001b[0m\u001b[0mX\u001b[0m\u001b[0;34m,\u001b[0m \u001b[0my\u001b[0m\u001b[0;34m,\u001b[0m \u001b[0;36m10\u001b[0m\u001b[0;34m)\u001b[0m\u001b[0;34m)\u001b[0m\u001b[0;34m\u001b[0m\u001b[0;34m\u001b[0m\u001b[0m\n\u001b[0m",
      "\u001b[0;31mNameError\u001b[0m: name 'K_Fold' is not defined"
     ]
    }
   ],
   "source": [
    "df = pd.read_csv('../data/train.csv')\n",
    "df2 = df.reindex(columns=[\"antiguedad\", \"habitaciones\", \"garages\", \"banos\", \"metroscubiertos\", \"metrostotales\", \"lat\",\n",
    "                          \"lng\", \"gimnasio\", \"usosmultiples\", \"piscina\", \"escuelascercanas\", \"centroscomercialescercanos\", \"precio\"]).dropna()\n",
    "df2 = df2[(df2['lat'] > 13) & (df2['lat'] < 34) & (df2['lng'] >= -117) & (df2['lng'] <= -87)]\n",
    "df2['lng'] = df2['lng'].abs()\n",
    "\n",
    "y = df2['precio'].values\n",
    "df2 = df2.drop(columns=['precio'])\n",
    "X = df2.to_numpy()\n",
    "\n",
    "print(K_Fold(X, y, 10))"
   ]
  },
  {
   "cell_type": "code",
   "execution_count": null,
   "metadata": {},
   "outputs": [],
   "source": []
  },
  {
   "cell_type": "markdown",
   "metadata": {},
   "source": [
    "# Observaciones:\n",
    "- Podemos elimnar las latitudes que esten fuera de las latitudes de mexico y lo mismo para lng\n",
    "- Hacemos modulo de la latitud y longitud para poder usar rmsle (eliminamos aprox 1k de lng mal tageados)\n",
    "El data set est\n",
    "\n",
    "# Preguntas:\n",
    "Como ir viendo los graficos si se experimenta con KFold y esto genera K distintos\n"
   ]
  },
  {
   "cell_type": "markdown",
   "metadata": {},
   "source": [
    "# tamos trabados so segmentation time\n"
   ]
  },
  {
   "cell_type": "markdown",
   "metadata": {},
   "source": [
    "- Division por tipo de propiedad entre comercial y residencial(y rural?) teniendo en cuenta tipo de mercado\n",
    "- Por lapsos de años teniendo en cuenta el crecimiento/ fluctuacion del mercado inmobiliario / inflacion\n"
   ]
  },
  {
   "cell_type": "code",
   "execution_count": 16,
   "metadata": {},
   "outputs": [
    {
     "data": {
      "text/plain": [
       "Casa                             141717\n",
       "Apartamento                       57341\n",
       "Casa en condominio                19297\n",
       "Terreno                            9945\n",
       "Local Comercial                    3055\n",
       "Oficina comercial                  1741\n",
       "Bodega comercial                   1406\n",
       "Edificio                           1396\n",
       "Terreno comercial                  1326\n",
       "Casa uso de suelo                   708\n",
       "Quinta Vacacional                   395\n",
       "Duplex                              343\n",
       "Villa                               340\n",
       "Inmuebles productivos urbanos       200\n",
       "Rancho                              170\n",
       "Local en centro comercial           165\n",
       "Departamento Compartido             141\n",
       "Otros                               134\n",
       "Nave industrial                      76\n",
       "Terreno industrial                   31\n",
       "Huerta                               20\n",
       "Lote                                  5\n",
       "Hospedaje                             1\n",
       "Garage                                1\n",
       "Name: tipodepropiedad, dtype: int64"
      ]
     },
     "execution_count": 16,
     "metadata": {},
     "output_type": "execute_result"
    }
   ],
   "source": [
    "df['tipodepropiedad'].value_counts()"
   ]
  },
  {
   "cell_type": "code",
   "execution_count": 19,
   "metadata": {},
   "outputs": [
    {
     "data": {
      "text/html": [
       "<div>\n",
       "<style scoped>\n",
       "    .dataframe tbody tr th:only-of-type {\n",
       "        vertical-align: middle;\n",
       "    }\n",
       "\n",
       "    .dataframe tbody tr th {\n",
       "        vertical-align: top;\n",
       "    }\n",
       "\n",
       "    .dataframe thead th {\n",
       "        text-align: right;\n",
       "    }\n",
       "</style>\n",
       "<table border=\"1\" class=\"dataframe\">\n",
       "  <thead>\n",
       "    <tr style=\"text-align: right;\">\n",
       "      <th></th>\n",
       "      <th>id</th>\n",
       "      <th>titulo</th>\n",
       "      <th>descripcion</th>\n",
       "      <th>tipodepropiedad</th>\n",
       "      <th>direccion</th>\n",
       "      <th>ciudad</th>\n",
       "      <th>provincia</th>\n",
       "      <th>antiguedad</th>\n",
       "      <th>habitaciones</th>\n",
       "      <th>garages</th>\n",
       "      <th>...</th>\n",
       "      <th>idzona</th>\n",
       "      <th>lat</th>\n",
       "      <th>lng</th>\n",
       "      <th>fecha</th>\n",
       "      <th>gimnasio</th>\n",
       "      <th>usosmultiples</th>\n",
       "      <th>piscina</th>\n",
       "      <th>escuelascercanas</th>\n",
       "      <th>centroscomercialescercanos</th>\n",
       "      <th>precio</th>\n",
       "    </tr>\n",
       "  </thead>\n",
       "  <tbody>\n",
       "    <tr>\n",
       "      <th>242</th>\n",
       "      <td>67919</td>\n",
       "      <td>edificio en venta mazatlan sinaloa centro esqu...</td>\n",
       "      <td>400 m2 terreno; 1100 m2 construídos; 3 niveles...</td>\n",
       "      <td>Edificio</td>\n",
       "      <td>GABRIEL LEYVA ESQUINA ZARAGOZA</td>\n",
       "      <td>Mazatlán</td>\n",
       "      <td>Sinaloa</td>\n",
       "      <td>20.0</td>\n",
       "      <td>10.0</td>\n",
       "      <td>NaN</td>\n",
       "      <td>...</td>\n",
       "      <td>93318.0</td>\n",
       "      <td>23.207363</td>\n",
       "      <td>-106.411095</td>\n",
       "      <td>2015-11-09 00:00:00</td>\n",
       "      <td>0.0</td>\n",
       "      <td>0.0</td>\n",
       "      <td>0.0</td>\n",
       "      <td>1.0</td>\n",
       "      <td>1.0</td>\n",
       "      <td>2800000.0</td>\n",
       "    </tr>\n",
       "    <tr>\n",
       "      <th>510</th>\n",
       "      <td>55713</td>\n",
       "      <td>oportunidad vendo edificio con 9 departamentos</td>\n",
       "      <td>&lt;p&gt;oportunidad edificio con 9 departamentos, 3...</td>\n",
       "      <td>Edificio</td>\n",
       "      <td>Cerro, Campestre Churubusco, Coyoacan}</td>\n",
       "      <td>Coyoacán</td>\n",
       "      <td>Distrito Federal</td>\n",
       "      <td>40.0</td>\n",
       "      <td>NaN</td>\n",
       "      <td>0.0</td>\n",
       "      <td>...</td>\n",
       "      <td>23592.0</td>\n",
       "      <td>19.342983</td>\n",
       "      <td>-99.142520</td>\n",
       "      <td>2013-10-12 00:00:00</td>\n",
       "      <td>0.0</td>\n",
       "      <td>0.0</td>\n",
       "      <td>0.0</td>\n",
       "      <td>0.0</td>\n",
       "      <td>0.0</td>\n",
       "      <td>3700000.0</td>\n",
       "    </tr>\n",
       "    <tr>\n",
       "      <th>1180</th>\n",
       "      <td>125307</td>\n",
       "      <td>edificio para remodelar super ubicacion de 3 n...</td>\n",
       "      <td>edificio super ubicacion para remodelar, buena...</td>\n",
       "      <td>Edificio</td>\n",
       "      <td>Carolina</td>\n",
       "      <td>Gustavo A. Madero</td>\n",
       "      <td>Distrito Federal</td>\n",
       "      <td>50.0</td>\n",
       "      <td>10.0</td>\n",
       "      <td>0.0</td>\n",
       "      <td>...</td>\n",
       "      <td>24052.0</td>\n",
       "      <td>NaN</td>\n",
       "      <td>NaN</td>\n",
       "      <td>2015-08-03 00:00:00</td>\n",
       "      <td>0.0</td>\n",
       "      <td>0.0</td>\n",
       "      <td>0.0</td>\n",
       "      <td>0.0</td>\n",
       "      <td>0.0</td>\n",
       "      <td>4500000.0</td>\n",
       "    </tr>\n",
       "    <tr>\n",
       "      <th>1228</th>\n",
       "      <td>42303</td>\n",
       "      <td>gran oportunidad de negocio edificio departame...</td>\n",
       "      <td>gran oportunidad de negocio edificio departame...</td>\n",
       "      <td>Edificio</td>\n",
       "      <td>Pasando el arco vial de la juarez</td>\n",
       "      <td>Playa del Carmen</td>\n",
       "      <td>Quintana Roo</td>\n",
       "      <td>4.0</td>\n",
       "      <td>10.0</td>\n",
       "      <td>NaN</td>\n",
       "      <td>...</td>\n",
       "      <td>130510.0</td>\n",
       "      <td>20.636370</td>\n",
       "      <td>-87.099380</td>\n",
       "      <td>2014-05-21 00:00:00</td>\n",
       "      <td>0.0</td>\n",
       "      <td>0.0</td>\n",
       "      <td>0.0</td>\n",
       "      <td>1.0</td>\n",
       "      <td>1.0</td>\n",
       "      <td>3300000.0</td>\n",
       "    </tr>\n",
       "    <tr>\n",
       "      <th>1684</th>\n",
       "      <td>176462</td>\n",
       "      <td>edificio en venta en lázaro cárdenas, toluca</td>\n",
       "      <td>&lt;p&gt;excelente inversi&amp;oacute;n ideal para clini...</td>\n",
       "      <td>Edificio</td>\n",
       "      <td>ANTONIO ALBARRAN 210 B</td>\n",
       "      <td>Toluca</td>\n",
       "      <td>Edo. de México</td>\n",
       "      <td>20.0</td>\n",
       "      <td>NaN</td>\n",
       "      <td>NaN</td>\n",
       "      <td>...</td>\n",
       "      <td>52025.0</td>\n",
       "      <td>19.267932</td>\n",
       "      <td>-99.650590</td>\n",
       "      <td>2013-10-15 00:00:00</td>\n",
       "      <td>0.0</td>\n",
       "      <td>0.0</td>\n",
       "      <td>0.0</td>\n",
       "      <td>0.0</td>\n",
       "      <td>0.0</td>\n",
       "      <td>3500000.0</td>\n",
       "    </tr>\n",
       "    <tr>\n",
       "      <th>...</th>\n",
       "      <td>...</td>\n",
       "      <td>...</td>\n",
       "      <td>...</td>\n",
       "      <td>...</td>\n",
       "      <td>...</td>\n",
       "      <td>...</td>\n",
       "      <td>...</td>\n",
       "      <td>...</td>\n",
       "      <td>...</td>\n",
       "      <td>...</td>\n",
       "      <td>...</td>\n",
       "      <td>...</td>\n",
       "      <td>...</td>\n",
       "      <td>...</td>\n",
       "      <td>...</td>\n",
       "      <td>...</td>\n",
       "      <td>...</td>\n",
       "      <td>...</td>\n",
       "      <td>...</td>\n",
       "      <td>...</td>\n",
       "      <td>...</td>\n",
       "    </tr>\n",
       "    <tr>\n",
       "      <th>238526</th>\n",
       "      <td>206376</td>\n",
       "      <td>edificio en venta en los manantiales</td>\n",
       "      <td>venta de edificio de 3 niveles en los manantia...</td>\n",
       "      <td>Edificio</td>\n",
       "      <td>Nicolas Romero Manantiales</td>\n",
       "      <td>Nicolás Romero</td>\n",
       "      <td>Edo. de México</td>\n",
       "      <td>12.0</td>\n",
       "      <td>NaN</td>\n",
       "      <td>3.0</td>\n",
       "      <td>...</td>\n",
       "      <td>56621.0</td>\n",
       "      <td>NaN</td>\n",
       "      <td>NaN</td>\n",
       "      <td>2012-10-16 00:00:00</td>\n",
       "      <td>0.0</td>\n",
       "      <td>0.0</td>\n",
       "      <td>0.0</td>\n",
       "      <td>0.0</td>\n",
       "      <td>0.0</td>\n",
       "      <td>2500000.0</td>\n",
       "    </tr>\n",
       "    <tr>\n",
       "      <th>238890</th>\n",
       "      <td>21172</td>\n",
       "      <td>col. rio san javier, tlalnepantla,  excelente ...</td>\n",
       "      <td>&lt;p&gt;tiene cocineta. 2 privados en segundo piso....</td>\n",
       "      <td>Edificio</td>\n",
       "      <td>NaN</td>\n",
       "      <td>Tlalnepantla de Baz</td>\n",
       "      <td>Edo. de México</td>\n",
       "      <td>21.0</td>\n",
       "      <td>NaN</td>\n",
       "      <td>NaN</td>\n",
       "      <td>...</td>\n",
       "      <td>56301.0</td>\n",
       "      <td>19.538016</td>\n",
       "      <td>-99.210838</td>\n",
       "      <td>2016-12-19 00:00:00</td>\n",
       "      <td>0.0</td>\n",
       "      <td>0.0</td>\n",
       "      <td>0.0</td>\n",
       "      <td>0.0</td>\n",
       "      <td>0.0</td>\n",
       "      <td>3800000.0</td>\n",
       "    </tr>\n",
       "    <tr>\n",
       "      <th>238933</th>\n",
       "      <td>67642</td>\n",
       "      <td>edificio en venta en venustiano carranza</td>\n",
       "      <td>nocnok id: mx15-bi5366. inmueble con 4 locales...</td>\n",
       "      <td>Edificio</td>\n",
       "      <td>NaN</td>\n",
       "      <td>Venustiano Carranza</td>\n",
       "      <td>Distrito Federal</td>\n",
       "      <td>NaN</td>\n",
       "      <td>4.0</td>\n",
       "      <td>NaN</td>\n",
       "      <td>...</td>\n",
       "      <td>25000.0</td>\n",
       "      <td>19.444105</td>\n",
       "      <td>-99.097758</td>\n",
       "      <td>2015-10-09 00:00:00</td>\n",
       "      <td>0.0</td>\n",
       "      <td>0.0</td>\n",
       "      <td>0.0</td>\n",
       "      <td>0.0</td>\n",
       "      <td>0.0</td>\n",
       "      <td>3200000.0</td>\n",
       "    </tr>\n",
       "    <tr>\n",
       "      <th>238982</th>\n",
       "      <td>128177</td>\n",
       "      <td>edificio en venta alvaro obregon puente colora...</td>\n",
       "      <td>edificio en esquina de 3 niveles, 5 departamen...</td>\n",
       "      <td>Edificio</td>\n",
       "      <td>Puente Colorado, Álvaro Obregón, Distrito Federal</td>\n",
       "      <td>Alvaro Obregón</td>\n",
       "      <td>Distrito Federal</td>\n",
       "      <td>20.0</td>\n",
       "      <td>NaN</td>\n",
       "      <td>0.0</td>\n",
       "      <td>...</td>\n",
       "      <td>23352.0</td>\n",
       "      <td>19.347299</td>\n",
       "      <td>-99.231379</td>\n",
       "      <td>2016-10-26 00:00:00</td>\n",
       "      <td>0.0</td>\n",
       "      <td>0.0</td>\n",
       "      <td>0.0</td>\n",
       "      <td>1.0</td>\n",
       "      <td>1.0</td>\n",
       "      <td>5000000.0</td>\n",
       "    </tr>\n",
       "    <tr>\n",
       "      <th>239142</th>\n",
       "      <td>58596</td>\n",
       "      <td>edificio en venta ubicada manuel j. othon en c...</td>\n",
       "      <td>planta baja: dos accesorias con medio baño cad...</td>\n",
       "      <td>Edificio</td>\n",
       "      <td>Manuel J. Othon</td>\n",
       "      <td>Cuauhtémoc</td>\n",
       "      <td>Distrito Federal</td>\n",
       "      <td>20.0</td>\n",
       "      <td>NaN</td>\n",
       "      <td>0.0</td>\n",
       "      <td>...</td>\n",
       "      <td>23870.0</td>\n",
       "      <td>19.414318</td>\n",
       "      <td>-99.131653</td>\n",
       "      <td>2016-01-16 00:00:00</td>\n",
       "      <td>0.0</td>\n",
       "      <td>0.0</td>\n",
       "      <td>0.0</td>\n",
       "      <td>0.0</td>\n",
       "      <td>0.0</td>\n",
       "      <td>2900000.0</td>\n",
       "    </tr>\n",
       "  </tbody>\n",
       "</table>\n",
       "<p>1396 rows × 23 columns</p>\n",
       "</div>"
      ],
      "text/plain": [
       "            id                                             titulo  \\\n",
       "242      67919  edificio en venta mazatlan sinaloa centro esqu...   \n",
       "510      55713     oportunidad vendo edificio con 9 departamentos   \n",
       "1180    125307  edificio para remodelar super ubicacion de 3 n...   \n",
       "1228     42303  gran oportunidad de negocio edificio departame...   \n",
       "1684    176462       edificio en venta en lázaro cárdenas, toluca   \n",
       "...        ...                                                ...   \n",
       "238526  206376               edificio en venta en los manantiales   \n",
       "238890   21172  col. rio san javier, tlalnepantla,  excelente ...   \n",
       "238933   67642           edificio en venta en venustiano carranza   \n",
       "238982  128177  edificio en venta alvaro obregon puente colora...   \n",
       "239142   58596  edificio en venta ubicada manuel j. othon en c...   \n",
       "\n",
       "                                              descripcion tipodepropiedad  \\\n",
       "242     400 m2 terreno; 1100 m2 construídos; 3 niveles...        Edificio   \n",
       "510     <p>oportunidad edificio con 9 departamentos, 3...        Edificio   \n",
       "1180    edificio super ubicacion para remodelar, buena...        Edificio   \n",
       "1228    gran oportunidad de negocio edificio departame...        Edificio   \n",
       "1684    <p>excelente inversi&oacute;n ideal para clini...        Edificio   \n",
       "...                                                   ...             ...   \n",
       "238526  venta de edificio de 3 niveles en los manantia...        Edificio   \n",
       "238890  <p>tiene cocineta. 2 privados en segundo piso....        Edificio   \n",
       "238933  nocnok id: mx15-bi5366. inmueble con 4 locales...        Edificio   \n",
       "238982  edificio en esquina de 3 niveles, 5 departamen...        Edificio   \n",
       "239142  planta baja: dos accesorias con medio baño cad...        Edificio   \n",
       "\n",
       "                                                direccion  \\\n",
       "242                        GABRIEL LEYVA ESQUINA ZARAGOZA   \n",
       "510                Cerro, Campestre Churubusco, Coyoacan}   \n",
       "1180                                             Carolina   \n",
       "1228                    Pasando el arco vial de la juarez   \n",
       "1684                               ANTONIO ALBARRAN 210 B   \n",
       "...                                                   ...   \n",
       "238526                         Nicolas Romero Manantiales   \n",
       "238890                                                NaN   \n",
       "238933                                                NaN   \n",
       "238982  Puente Colorado, Álvaro Obregón, Distrito Federal   \n",
       "239142                                    Manuel J. Othon   \n",
       "\n",
       "                     ciudad         provincia  antiguedad  habitaciones  \\\n",
       "242                Mazatlán           Sinaloa        20.0          10.0   \n",
       "510                Coyoacán  Distrito Federal        40.0           NaN   \n",
       "1180      Gustavo A. Madero  Distrito Federal        50.0          10.0   \n",
       "1228       Playa del Carmen      Quintana Roo         4.0          10.0   \n",
       "1684                 Toluca    Edo. de México        20.0           NaN   \n",
       "...                     ...               ...         ...           ...   \n",
       "238526       Nicolás Romero    Edo. de México        12.0           NaN   \n",
       "238890  Tlalnepantla de Baz    Edo. de México        21.0           NaN   \n",
       "238933  Venustiano Carranza  Distrito Federal         NaN           4.0   \n",
       "238982       Alvaro Obregón  Distrito Federal        20.0           NaN   \n",
       "239142           Cuauhtémoc  Distrito Federal        20.0           NaN   \n",
       "\n",
       "        garages  ...    idzona        lat         lng                fecha  \\\n",
       "242         NaN  ...   93318.0  23.207363 -106.411095  2015-11-09 00:00:00   \n",
       "510         0.0  ...   23592.0  19.342983  -99.142520  2013-10-12 00:00:00   \n",
       "1180        0.0  ...   24052.0        NaN         NaN  2015-08-03 00:00:00   \n",
       "1228        NaN  ...  130510.0  20.636370  -87.099380  2014-05-21 00:00:00   \n",
       "1684        NaN  ...   52025.0  19.267932  -99.650590  2013-10-15 00:00:00   \n",
       "...         ...  ...       ...        ...         ...                  ...   \n",
       "238526      3.0  ...   56621.0        NaN         NaN  2012-10-16 00:00:00   \n",
       "238890      NaN  ...   56301.0  19.538016  -99.210838  2016-12-19 00:00:00   \n",
       "238933      NaN  ...   25000.0  19.444105  -99.097758  2015-10-09 00:00:00   \n",
       "238982      0.0  ...   23352.0  19.347299  -99.231379  2016-10-26 00:00:00   \n",
       "239142      0.0  ...   23870.0  19.414318  -99.131653  2016-01-16 00:00:00   \n",
       "\n",
       "        gimnasio  usosmultiples piscina  escuelascercanas  \\\n",
       "242          0.0            0.0     0.0               1.0   \n",
       "510          0.0            0.0     0.0               0.0   \n",
       "1180         0.0            0.0     0.0               0.0   \n",
       "1228         0.0            0.0     0.0               1.0   \n",
       "1684         0.0            0.0     0.0               0.0   \n",
       "...          ...            ...     ...               ...   \n",
       "238526       0.0            0.0     0.0               0.0   \n",
       "238890       0.0            0.0     0.0               0.0   \n",
       "238933       0.0            0.0     0.0               0.0   \n",
       "238982       0.0            0.0     0.0               1.0   \n",
       "239142       0.0            0.0     0.0               0.0   \n",
       "\n",
       "        centroscomercialescercanos     precio  \n",
       "242                            1.0  2800000.0  \n",
       "510                            0.0  3700000.0  \n",
       "1180                           0.0  4500000.0  \n",
       "1228                           1.0  3300000.0  \n",
       "1684                           0.0  3500000.0  \n",
       "...                            ...        ...  \n",
       "238526                         0.0  2500000.0  \n",
       "238890                         0.0  3800000.0  \n",
       "238933                         0.0  3200000.0  \n",
       "238982                         1.0  5000000.0  \n",
       "239142                         0.0  2900000.0  \n",
       "\n",
       "[1396 rows x 23 columns]"
      ]
     },
     "execution_count": 19,
     "metadata": {},
     "output_type": "execute_result"
    }
   ],
   "source": [
    "df[df['tipodepropiedad']=='Edificio']"
   ]
  },
  {
   "cell_type": "code",
   "execution_count": 27,
   "metadata": {},
   "outputs": [
    {
     "data": {
      "text/html": [
       "<div>\n",
       "<style scoped>\n",
       "    .dataframe tbody tr th:only-of-type {\n",
       "        vertical-align: middle;\n",
       "    }\n",
       "\n",
       "    .dataframe tbody tr th {\n",
       "        vertical-align: top;\n",
       "    }\n",
       "\n",
       "    .dataframe thead th {\n",
       "        text-align: right;\n",
       "    }\n",
       "</style>\n",
       "<table border=\"1\" class=\"dataframe\">\n",
       "  <thead>\n",
       "    <tr style=\"text-align: right;\">\n",
       "      <th></th>\n",
       "      <th>id</th>\n",
       "      <th>titulo</th>\n",
       "      <th>descripcion</th>\n",
       "      <th>tipodepropiedad</th>\n",
       "      <th>direccion</th>\n",
       "      <th>ciudad</th>\n",
       "      <th>provincia</th>\n",
       "      <th>antiguedad</th>\n",
       "      <th>habitaciones</th>\n",
       "      <th>garages</th>\n",
       "      <th>...</th>\n",
       "      <th>idzona</th>\n",
       "      <th>lat</th>\n",
       "      <th>lng</th>\n",
       "      <th>fecha</th>\n",
       "      <th>gimnasio</th>\n",
       "      <th>usosmultiples</th>\n",
       "      <th>piscina</th>\n",
       "      <th>escuelascercanas</th>\n",
       "      <th>centroscomercialescercanos</th>\n",
       "      <th>precio</th>\n",
       "    </tr>\n",
       "    <tr>\n",
       "      <th>fecha</th>\n",
       "      <th></th>\n",
       "      <th></th>\n",
       "      <th></th>\n",
       "      <th></th>\n",
       "      <th></th>\n",
       "      <th></th>\n",
       "      <th></th>\n",
       "      <th></th>\n",
       "      <th></th>\n",
       "      <th></th>\n",
       "      <th></th>\n",
       "      <th></th>\n",
       "      <th></th>\n",
       "      <th></th>\n",
       "      <th></th>\n",
       "      <th></th>\n",
       "      <th></th>\n",
       "      <th></th>\n",
       "      <th></th>\n",
       "      <th></th>\n",
       "      <th></th>\n",
       "    </tr>\n",
       "  </thead>\n",
       "  <tbody>\n",
       "    <tr>\n",
       "      <th>2012</th>\n",
       "      <td>23534</td>\n",
       "      <td>20867</td>\n",
       "      <td>22817</td>\n",
       "      <td>23534</td>\n",
       "      <td>21038</td>\n",
       "      <td>23534</td>\n",
       "      <td>23534</td>\n",
       "      <td>23474</td>\n",
       "      <td>21424</td>\n",
       "      <td>21468</td>\n",
       "      <td>...</td>\n",
       "      <td>19312</td>\n",
       "      <td>9435</td>\n",
       "      <td>9435</td>\n",
       "      <td>23534</td>\n",
       "      <td>23534</td>\n",
       "      <td>23534</td>\n",
       "      <td>23534</td>\n",
       "      <td>23534</td>\n",
       "      <td>23534</td>\n",
       "      <td>23534</td>\n",
       "    </tr>\n",
       "    <tr>\n",
       "      <th>2013</th>\n",
       "      <td>30386</td>\n",
       "      <td>29793</td>\n",
       "      <td>30029</td>\n",
       "      <td>30386</td>\n",
       "      <td>22529</td>\n",
       "      <td>30377</td>\n",
       "      <td>30386</td>\n",
       "      <td>29939</td>\n",
       "      <td>27709</td>\n",
       "      <td>27919</td>\n",
       "      <td>...</td>\n",
       "      <td>26489</td>\n",
       "      <td>19847</td>\n",
       "      <td>19847</td>\n",
       "      <td>30386</td>\n",
       "      <td>30386</td>\n",
       "      <td>30386</td>\n",
       "      <td>30386</td>\n",
       "      <td>30386</td>\n",
       "      <td>30386</td>\n",
       "      <td>30386</td>\n",
       "    </tr>\n",
       "    <tr>\n",
       "      <th>2014</th>\n",
       "      <td>40572</td>\n",
       "      <td>39506</td>\n",
       "      <td>40250</td>\n",
       "      <td>40533</td>\n",
       "      <td>29814</td>\n",
       "      <td>40344</td>\n",
       "      <td>40442</td>\n",
       "      <td>30865</td>\n",
       "      <td>36358</td>\n",
       "      <td>35233</td>\n",
       "      <td>...</td>\n",
       "      <td>34941</td>\n",
       "      <td>16765</td>\n",
       "      <td>16765</td>\n",
       "      <td>40572</td>\n",
       "      <td>40572</td>\n",
       "      <td>40572</td>\n",
       "      <td>40572</td>\n",
       "      <td>40572</td>\n",
       "      <td>40572</td>\n",
       "      <td>40572</td>\n",
       "    </tr>\n",
       "    <tr>\n",
       "      <th>2015</th>\n",
       "      <td>51470</td>\n",
       "      <td>50839</td>\n",
       "      <td>51340</td>\n",
       "      <td>51464</td>\n",
       "      <td>36278</td>\n",
       "      <td>51436</td>\n",
       "      <td>51469</td>\n",
       "      <td>36901</td>\n",
       "      <td>46771</td>\n",
       "      <td>43656</td>\n",
       "      <td>...</td>\n",
       "      <td>44925</td>\n",
       "      <td>21246</td>\n",
       "      <td>21246</td>\n",
       "      <td>51470</td>\n",
       "      <td>51470</td>\n",
       "      <td>51470</td>\n",
       "      <td>51470</td>\n",
       "      <td>51470</td>\n",
       "      <td>51470</td>\n",
       "      <td>51470</td>\n",
       "    </tr>\n",
       "    <tr>\n",
       "      <th>2016</th>\n",
       "      <td>94038</td>\n",
       "      <td>93608</td>\n",
       "      <td>93945</td>\n",
       "      <td>94037</td>\n",
       "      <td>77269</td>\n",
       "      <td>93937</td>\n",
       "      <td>94014</td>\n",
       "      <td>75266</td>\n",
       "      <td>85267</td>\n",
       "      <td>73959</td>\n",
       "      <td>...</td>\n",
       "      <td>85712</td>\n",
       "      <td>49219</td>\n",
       "      <td>49219</td>\n",
       "      <td>94038</td>\n",
       "      <td>94038</td>\n",
       "      <td>94038</td>\n",
       "      <td>94038</td>\n",
       "      <td>94038</td>\n",
       "      <td>94038</td>\n",
       "      <td>94038</td>\n",
       "    </tr>\n",
       "  </tbody>\n",
       "</table>\n",
       "<p>5 rows × 23 columns</p>\n",
       "</div>"
      ],
      "text/plain": [
       "          id  titulo  descripcion  tipodepropiedad  direccion  ciudad  \\\n",
       "fecha                                                                   \n",
       "2012   23534   20867        22817            23534      21038   23534   \n",
       "2013   30386   29793        30029            30386      22529   30377   \n",
       "2014   40572   39506        40250            40533      29814   40344   \n",
       "2015   51470   50839        51340            51464      36278   51436   \n",
       "2016   94038   93608        93945            94037      77269   93937   \n",
       "\n",
       "       provincia  antiguedad  habitaciones  garages  ...  idzona    lat  \\\n",
       "fecha                                                ...                  \n",
       "2012       23534       23474         21424    21468  ...   19312   9435   \n",
       "2013       30386       29939         27709    27919  ...   26489  19847   \n",
       "2014       40442       30865         36358    35233  ...   34941  16765   \n",
       "2015       51469       36901         46771    43656  ...   44925  21246   \n",
       "2016       94014       75266         85267    73959  ...   85712  49219   \n",
       "\n",
       "         lng  fecha  gimnasio  usosmultiples  piscina  escuelascercanas  \\\n",
       "fecha                                                                     \n",
       "2012    9435  23534     23534          23534    23534             23534   \n",
       "2013   19847  30386     30386          30386    30386             30386   \n",
       "2014   16765  40572     40572          40572    40572             40572   \n",
       "2015   21246  51470     51470          51470    51470             51470   \n",
       "2016   49219  94038     94038          94038    94038             94038   \n",
       "\n",
       "       centroscomercialescercanos  precio  \n",
       "fecha                                      \n",
       "2012                        23534   23534  \n",
       "2013                        30386   30386  \n",
       "2014                        40572   40572  \n",
       "2015                        51470   51470  \n",
       "2016                        94038   94038  \n",
       "\n",
       "[5 rows x 23 columns]"
      ]
     },
     "execution_count": 27,
     "metadata": {},
     "output_type": "execute_result"
    }
   ],
   "source": [
    "pd.to_datetime(df['fecha'])\n",
    "\n",
    "df.groupby([pd.to_datetime(df['fecha']).dt.year]).count()\n"
   ]
  },
  {
   "cell_type": "markdown",
   "metadata": {},
   "source": [
    "Vamos a realizar el mismo experimento que antes pero antes segmentando por casas para ver si cambia"
   ]
  },
  {
   "cell_type": "code",
   "execution_count": 41,
   "metadata": {},
   "outputs": [
    {
     "name": "stdout",
     "output_type": "stream",
     "text": [
      "False\n"
     ]
    },
    {
     "data": {
      "text/plain": [
       "<matplotlib.axes._subplots.AxesSubplot at 0x7f27e55c9050>"
      ]
     },
     "execution_count": 41,
     "metadata": {},
     "output_type": "execute_result"
    },
    {
     "data": {
      "image/png": "[encoded data removed]",
      "text/plain": [
       "<Figure size 432x288 with 1 Axes>"
      ]
     },
     "metadata": {
      "needs_background": "light"
     },
     "output_type": "display_data"
    }
   ],
   "source": [
    "df = pd.read_csv('../data/train.csv')\n",
    "df = df[df['tipodepropiedad'] == 'Villa']\n",
    "df2 = df.reindex(columns=[\"metroscubiertos\", \"metrostotales\", \"habitaciones\", \"banos\",\"antiguedad\", \"precio\"]).dropna()\n",
    "#df2 = df2[(df2['lat'] > 13) & (df2['lat'] < 34) & (df2['lng'] >= -117) & (df2['lng'] <= -87)]\n",
    "#df2['lng'] = df2['lng'].abs()\n",
    "\n",
    "y = df2['precio'].values\n",
    "df2 = df2.drop(columns=['precio'])\n",
    "X = df2.to_numpy()\n",
    "\n",
    "#from sklearn.linear_model import LinearRegression\n",
    "\n",
    "\n",
    "#linear_regressor = LinearRegression()\n",
    "linear_regressor = metnum.LinearRegression()\n",
    "linear_regressor.fit(X,y)\n",
    "\n",
    "df2['prediction'] = linear_regressor.predict(X)\n",
    "\n",
    "print((df2['prediction'] < 0).any())\n",
    "\n",
    "sns.scatterplot(x=df2['metrostotales'], y=y)\n",
    "sns.lineplot(data=df2, x='metrostotales', y='prediction', color='red')\n",
    "\n",
    "#sns.scatterplot(x=df2['antiguedad'], y=y)\n",
    "#sns.lineplot(data=df2, x='antiguedad', y='prediction', color='red')"
   ]
  },
  {
   "cell_type": "code",
   "execution_count": null,
   "metadata": {},
   "outputs": [],
   "source": []
  }
 ],
 "metadata": {
  "interpreter": {
   "hash": "31f2aee4e71d21fbe5cf8b01ff0e069b9275f58929596ceb00d14d90e3e16cd6"
  },
  "kernelspec": {
   "display_name": "Python 3",
   "language": "python",
   "name": "python3"
  },
  "language_info": {
   "codemirror_mode": {
    "name": "ipython",
    "version": 3
   },
   "file_extension": ".py",
   "mimetype": "text/x-python",
   "name": "python",
   "nbconvert_exporter": "python",
   "pygments_lexer": "ipython3",
   "version": "3.7.6"
  }
 },
 "nbformat": 4,
 "nbformat_minor": 4
}
